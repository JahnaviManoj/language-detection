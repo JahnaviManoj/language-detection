{
  "nbformat": 4,
  "nbformat_minor": 0,
  "metadata": {
    "colab": {
      "provenance": []
    },
    "kernelspec": {
      "name": "python3",
      "display_name": "Python 3"
    },
    "language_info": {
      "name": "python"
    }
  },
  "cells": [
    {
      "cell_type": "code",
      "execution_count": 1,
      "metadata": {
        "id": "zt0uT-7V9iH_"
      },
      "outputs": [],
      "source": [
        "import math\n",
        "import re"
      ]
    },
    {
      "cell_type": "code",
      "source": [
        "!unzip language-training.zip"
      ],
      "metadata": {
        "colab": {
          "base_uri": "https://localhost:8080/"
        },
        "id": "sPMXsncZGZ_V",
        "outputId": "45a99726-6112-4e2a-f5ca-4345a0e15667"
      },
      "execution_count": 2,
      "outputs": [
        {
          "output_type": "stream",
          "name": "stdout",
          "text": [
            "Archive:  language-training.zip\n",
            "   creating: language-training/Czech/\n",
            "  inflating: language-training/Czech/23_cm_her101  \n",
            "  inflating: language-training/Czech/bestiary  \n",
            "  inflating: language-training/Czech/character  \n",
            "  inflating: language-training/Czech/cn_jaskier07  \n",
            "  inflating: language-training/Czech/cn_julian01  \n",
            "  inflating: language-training/Czech/cn_kalkstein10  \n",
            "  inflating: language-training/Czech/cn_lady01  \n",
            "  inflating: language-training/Czech/cn_leuvaarden10  \n",
            "  inflating: language-training/Czech/cn_raymond05  \n",
            "  inflating: language-training/Czech/cn_shani19  \n",
            "  inflating: language-training/Czech/cn_talar01  \n",
            "  inflating: language-training/Czech/cn_triss01  \n",
            "  inflating: language-training/Czech/cn_vincent02  \n",
            "  inflating: language-training/Czech/tutorial  \n",
            "   creating: language-training/English/\n",
            "  inflating: language-training/English/23_cm_her101  \n",
            "  inflating: language-training/English/bestiary  \n",
            "  inflating: language-training/English/character  \n",
            "  inflating: language-training/English/cn_jaskier07  \n",
            "  inflating: language-training/English/cn_julian01  \n",
            "  inflating: language-training/English/cn_kalkstein10  \n",
            "  inflating: language-training/English/cn_lady01  \n",
            "  inflating: language-training/English/cn_leuvaarden10  \n",
            "  inflating: language-training/English/cn_raymond05  \n",
            "  inflating: language-training/English/cn_shani19  \n",
            "  inflating: language-training/English/cn_talar01  \n",
            "  inflating: language-training/English/cn_triss01  \n",
            "  inflating: language-training/English/cn_vincent02  \n",
            "  inflating: language-training/English/tutorial  \n",
            "   creating: language-training/French/\n",
            "  inflating: language-training/French/23_cm_her101  \n",
            "  inflating: language-training/French/bestiary  \n",
            "  inflating: language-training/French/character  \n",
            "  inflating: language-training/French/cn_jaskier07  \n",
            "  inflating: language-training/French/cn_julian01  \n",
            "  inflating: language-training/French/cn_kalkstein10  \n",
            "  inflating: language-training/French/cn_lady01  \n",
            "  inflating: language-training/French/cn_leuvaarden10  \n",
            "  inflating: language-training/French/cn_raymond05  \n",
            "  inflating: language-training/French/cn_shani19  \n",
            "  inflating: language-training/French/cn_talar01  \n",
            "  inflating: language-training/French/cn_triss01  \n",
            "  inflating: language-training/French/cn_vincent02  \n",
            "  inflating: language-training/French/tutorial  \n",
            "   creating: language-training/German/\n",
            "  inflating: language-training/German/23_cm_her101  \n",
            "  inflating: language-training/German/bestiary  \n",
            "  inflating: language-training/German/character  \n",
            "  inflating: language-training/German/cn_jaskier07  \n",
            "  inflating: language-training/German/cn_julian01  \n",
            "  inflating: language-training/German/cn_kalkstein10  \n",
            "  inflating: language-training/German/cn_lady01  \n",
            "  inflating: language-training/German/cn_leuvaarden10  \n",
            "  inflating: language-training/German/cn_raymond05  \n",
            "  inflating: language-training/German/cn_shani19  \n",
            "  inflating: language-training/German/cn_talar01  \n",
            "  inflating: language-training/German/cn_triss01  \n",
            "  inflating: language-training/German/cn_vincent02  \n",
            "  inflating: language-training/German/tutorial  \n",
            "   creating: language-training/Hungarian/\n",
            "  inflating: language-training/Hungarian/23_cm_her101  \n",
            "  inflating: language-training/Hungarian/bestiary  \n",
            "  inflating: language-training/Hungarian/character  \n",
            "  inflating: language-training/Hungarian/cn_jaskier07  \n",
            "  inflating: language-training/Hungarian/cn_julian01  \n",
            "  inflating: language-training/Hungarian/cn_kalkstein10  \n",
            "  inflating: language-training/Hungarian/cn_lady01  \n",
            "  inflating: language-training/Hungarian/cn_leuvaarden10  \n",
            "  inflating: language-training/Hungarian/cn_raymond05  \n",
            "  inflating: language-training/Hungarian/cn_shani19  \n",
            "  inflating: language-training/Hungarian/cn_talar01  \n",
            "  inflating: language-training/Hungarian/cn_triss01  \n",
            "  inflating: language-training/Hungarian/cn_vincent02  \n",
            "  inflating: language-training/Hungarian/tutorial  \n",
            "   creating: language-training/Italian/\n",
            "  inflating: language-training/Italian/23_cm_her101  \n",
            "  inflating: language-training/Italian/bestiary  \n",
            "  inflating: language-training/Italian/character  \n",
            "  inflating: language-training/Italian/cn_jaskier07  \n",
            "  inflating: language-training/Italian/cn_julian01  \n",
            "  inflating: language-training/Italian/cn_kalkstein10  \n",
            "  inflating: language-training/Italian/cn_lady01  \n",
            "  inflating: language-training/Italian/cn_leuvaarden10  \n",
            "  inflating: language-training/Italian/cn_raymond05  \n",
            "  inflating: language-training/Italian/cn_shani19  \n",
            "  inflating: language-training/Italian/cn_talar01  \n",
            "  inflating: language-training/Italian/cn_triss01  \n",
            "  inflating: language-training/Italian/cn_vincent02  \n",
            "  inflating: language-training/Italian/tutorial  \n",
            "   creating: language-training/Polish/\n",
            "  inflating: language-training/Polish/23_cm_her101  \n",
            "  inflating: language-training/Polish/bestiary  \n",
            "  inflating: language-training/Polish/character  \n",
            "  inflating: language-training/Polish/cn_jaskier07  \n",
            "  inflating: language-training/Polish/cn_julian01  \n",
            "  inflating: language-training/Polish/cn_kalkstein10  \n",
            "  inflating: language-training/Polish/cn_lady01  \n",
            "  inflating: language-training/Polish/cn_leuvaarden10  \n",
            "  inflating: language-training/Polish/cn_raymond05  \n",
            "  inflating: language-training/Polish/cn_shani19  \n",
            "  inflating: language-training/Polish/cn_talar01  \n",
            "  inflating: language-training/Polish/cn_triss01  \n",
            "  inflating: language-training/Polish/cn_vincent02  \n",
            "  inflating: language-training/Polish/tutorial  \n",
            "   creating: language-training/Russian/\n",
            "  inflating: language-training/Russian/23_cm_her101  \n",
            "  inflating: language-training/Russian/bestiary  \n",
            "  inflating: language-training/Russian/character  \n",
            "  inflating: language-training/Russian/cn_jaskier07  \n",
            "  inflating: language-training/Russian/cn_julian01  \n",
            "  inflating: language-training/Russian/cn_kalkstein10  \n",
            "  inflating: language-training/Russian/cn_lady01  \n",
            "  inflating: language-training/Russian/cn_leuvaarden10  \n",
            "  inflating: language-training/Russian/cn_raymond05  \n",
            "  inflating: language-training/Russian/cn_shani19  \n",
            "  inflating: language-training/Russian/cn_talar01  \n",
            "  inflating: language-training/Russian/cn_triss01  \n",
            "  inflating: language-training/Russian/cn_vincent02  \n",
            "  inflating: language-training/Russian/tutorial  \n",
            "   creating: language-training/Spanish/\n",
            "  inflating: language-training/Spanish/23_cm_her101  \n",
            "  inflating: language-training/Spanish/bestiary  \n",
            "  inflating: language-training/Spanish/character  \n",
            "  inflating: language-training/Spanish/cn_jaskier07  \n",
            "  inflating: language-training/Spanish/cn_julian01  \n",
            "  inflating: language-training/Spanish/cn_kalkstein10  \n",
            "  inflating: language-training/Spanish/cn_lady01  \n",
            "  inflating: language-training/Spanish/cn_leuvaarden10  \n",
            "  inflating: language-training/Spanish/cn_raymond05  \n",
            "  inflating: language-training/Spanish/cn_shani19  \n",
            "  inflating: language-training/Spanish/cn_talar01  \n",
            "  inflating: language-training/Spanish/cn_triss01  \n",
            "  inflating: language-training/Spanish/cn_vincent02  \n",
            "  inflating: language-training/Spanish/tutorial  \n"
          ]
        }
      ]
    },
    {
      "cell_type": "markdown",
      "source": [
        "# LOADING TRAINING DATA"
      ],
      "metadata": {
        "id": "js-luyt2XeE_"
      }
    },
    {
      "cell_type": "markdown",
      "source": [
        "loading training data from folder for given language"
      ],
      "metadata": {
        "id": "kNJ31nZoHQ9s"
      }
    },
    {
      "cell_type": "code",
      "source": [
        "def load_training_data(lang):\n",
        "  files = ['23_cm_her101', 'bestiary', 'character', 'cn_jaskier07', 'cn_julian01', 'cn_kalkstein10', 'cn_lady01', 'cn_leuvaarden10', 'cn_raymond05', 'cn_shani19', 'cn_talar01', 'cn_triss01', 'cn_vincent02', 'tutorial']\n",
        "\n",
        "  text = []\n",
        "  for f in files:\n",
        "    para = open('language-training/' + lang + '/' + f, 'r', encoding=\"utf8\").readlines()\n",
        "    for line in para:\n",
        "      text.append(line)\n",
        "  return text"
      ],
      "metadata": {
        "id": "uYkJpY0EHa40"
      },
      "execution_count": 3,
      "outputs": []
    },
    {
      "cell_type": "markdown",
      "source": [
        "Training data is an array of paragraphs. for example here is eng_text[3]"
      ],
      "metadata": {
        "id": "rbpxMedJH2GU"
      }
    },
    {
      "cell_type": "code",
      "source": [
        "eng_text = load_training_data('English')\n",
        "eng_text[3]"
      ],
      "metadata": {
        "colab": {
          "base_uri": "https://localhost:8080/",
          "height": 35
        },
        "id": "arSadJc6H7WU",
        "outputId": "47b41932-0bf7-4e7d-c440-7cb47304fd01"
      },
      "execution_count": 4,
      "outputs": [
        {
          "output_type": "execute_result",
          "data": {
            "text/plain": [
              "'I see you are a witcher. Has a villager finally sought to do something about the midday ladies?\\n'"
            ],
            "application/vnd.google.colaboratory.intrinsic+json": {
              "type": "string"
            }
          },
          "metadata": {},
          "execution_count": 4
        }
      ]
    },
    {
      "cell_type": "markdown",
      "source": [
        "# PREPROCESSING TRAINING DATA"
      ],
      "metadata": {
        "id": "LY5zRRLfXiRe"
      }
    },
    {
      "cell_type": "code",
      "source": [
        "def preprocess_data(text):\n",
        "  ret_words = []\n",
        "  for sentence in text:\n",
        "    words = sentence.split()\n",
        "    for word in words:\n",
        "      cleaned_word = re.sub(r'[\\W]', '', word)\n",
        "      if cleaned_word != '':\n",
        "        ret_words.append(cleaned_word.lower())\n",
        "  return ret_words"
      ],
      "metadata": {
        "id": "G89BQmhZXl-d"
      },
      "execution_count": 5,
      "outputs": []
    },
    {
      "cell_type": "markdown",
      "source": [
        "Preprocessing the english text. For example here is pre-process for [\"'I see you are a witcher. Has a villager finally sought to do something about the midday ladies?\\n'\"]. notice stripping of special characters such as ?"
      ],
      "metadata": {
        "id": "hRBN5iUoZ61f"
      }
    },
    {
      "cell_type": "code",
      "source": [
        "eng_words = preprocess_data([\"'I see you are a witcher. Has a villager finally sought to do something about the midday ladies?\\n'\"])\n",
        "eng_words"
      ],
      "metadata": {
        "colab": {
          "base_uri": "https://localhost:8080/"
        },
        "id": "6DbNs9fwY8tY",
        "outputId": "ee5ad3e8-3762-43fa-c4af-1cf68d3da180"
      },
      "execution_count": 6,
      "outputs": [
        {
          "output_type": "execute_result",
          "data": {
            "text/plain": [
              "['i',\n",
              " 'see',\n",
              " 'you',\n",
              " 'are',\n",
              " 'a',\n",
              " 'witcher',\n",
              " 'has',\n",
              " 'a',\n",
              " 'villager',\n",
              " 'finally',\n",
              " 'sought',\n",
              " 'to',\n",
              " 'do',\n",
              " 'something',\n",
              " 'about',\n",
              " 'the',\n",
              " 'midday',\n",
              " 'ladies']"
            ]
          },
          "metadata": {},
          "execution_count": 6
        }
      ]
    },
    {
      "cell_type": "markdown",
      "source": [
        "# COUNTING NUMBER OF TIMES A TRIGRAM WAS OBSERVED"
      ],
      "metadata": {
        "id": "z7E05Cpoa83P"
      }
    },
    {
      "cell_type": "markdown",
      "source": [
        "Through this function, we get counts of each trigram. Now for a given text in a language, we can create an n-dimensional vector where each trigram corresponds to a dimnension and the number of times a trigram was observed is the value for that dimension."
      ],
      "metadata": {
        "id": "uIKpc5EVTIOm"
      }
    },
    {
      "cell_type": "code",
      "source": [
        "def create_trigram_vector(words):\n",
        "  trigram_vector = {}\n",
        "  for w in words:\n",
        "    ch = '.' + w + '.'\n",
        "    for c1, c2, c3 in zip(ch, ch[1:], ch[2:]):\n",
        "      trigram_vector[c1+c2+c3] = trigram_vector.get(c1+c2+c3, 0) + 1\n",
        "  return trigram_vector"
      ],
      "metadata": {
        "id": "0CCbU3goa_-v"
      },
      "execution_count": 7,
      "outputs": []
    },
    {
      "cell_type": "markdown",
      "source": [
        "For example, creating trigram counts for the english language from the english words"
      ],
      "metadata": {
        "id": "eO5k-A_IcC-v"
      }
    },
    {
      "cell_type": "code",
      "source": [
        "eng_words = preprocess_data(load_training_data('English'))\n",
        "eng_count = create_trigram_vector(eng_words)\n",
        "print('printing first 10 dimensions')\n",
        "list(eng_count.items())[:10]"
      ],
      "metadata": {
        "colab": {
          "base_uri": "https://localhost:8080/"
        },
        "id": "kKbaA7urbXXY",
        "outputId": "a8972acc-a0e2-4a90-961d-fc2041aa78da"
      },
      "execution_count": 39,
      "outputs": [
        {
          "output_type": "stream",
          "name": "stdout",
          "text": [
            "printing first 10 dimensions\n"
          ]
        },
        {
          "output_type": "execute_result",
          "data": {
            "text/plain": [
              "[('.i.', 690),\n",
              " ('.do', 339),\n",
              " ('don', 131),\n",
              " ('ont', 177),\n",
              " ('nt.', 508),\n",
              " ('.ha', 436),\n",
              " ('hav', 218),\n",
              " ('ave', 328),\n",
              " ('ve.', 535),\n",
              " ('.ti', 81)]"
            ]
          },
          "metadata": {},
          "execution_count": 39
        }
      ]
    },
    {
      "cell_type": "markdown",
      "source": [
        "# CREATING A MODEL"
      ],
      "metadata": {
        "id": "iUYL2kf6h-x1"
      }
    },
    {
      "cell_type": "markdown",
      "source": [
        "A smaller angle between the language vector and the vector made from the given text implies greater similarity. To get the angle we compute cosine of the angle between the vectors. Since greater cosine means smaller angle, we directly use the cosine as the score for a given language. Language with the maximum score is the predicted language."
      ],
      "metadata": {
        "id": "Ru5dmctIU_ge"
      }
    },
    {
      "cell_type": "code",
      "source": [
        "class cosine_model:\n",
        "  def __init__(self):\n",
        "    # initializing language to trigram counts\n",
        "    self.lang_trigram = {}\n",
        "\n",
        "  # train model (create trigram vector for given language)\n",
        "  def train(self, language, preprocessed_data):\n",
        "    self.lang_trigram[language] = create_trigram_vector(preprocessed_data)\n",
        "\n",
        "  # function to return vector length given trigram counts\n",
        "  def vec_length(self, trigram_count):\n",
        "    sum = 0\n",
        "    for key, value in trigram_count.items():\n",
        "      sum += value*value\n",
        "    length = math.sqrt(sum)\n",
        "    return length\n",
        "\n",
        "  # function return cosine of language vector and text trigram vector\n",
        "  def cosine(self, language, text_trigram_vec):\n",
        "    dot = 0.0\n",
        "    # for given language look up the trigram vector\n",
        "    lang_count = self.lang_trigram[language]\n",
        "    # calculating dot product\n",
        "    for key, value in text_trigram_vec.items():\n",
        "      if key in lang_count:\n",
        "        dot += (value * lang_count[key])\n",
        "    # calculating cosine using dot product of the vectors and their lengths\n",
        "    cosine = dot / (self.vec_length(lang_count) * self.vec_length(text_trigram_vec))\n",
        "    return cosine\n",
        "\n",
        "  # predicting language for text given\n",
        "  def predict(self, text):\n",
        "    trigram_text = create_trigram_vector(text)\n",
        "    result = {}\n",
        "    for key, value in self.lang_trigram.items():\n",
        "      result[key] = self.cosine(key, trigram_text)\n",
        "        \n",
        "    result = sorted(result.items(), key = lambda x: -x[1])\n",
        "    if result[0][1] == 0.0:\n",
        "      print('\\ncannot detect language')\n",
        "    else:\n",
        "      print('\\nlanguage of given text document is most likely to be: ', result[0][0])\n",
        "    return result[0][0]\n"
      ],
      "metadata": {
        "id": "otw5OJ-5cKbn"
      },
      "execution_count": 19,
      "outputs": []
    },
    {
      "cell_type": "markdown",
      "source": [
        "# TESTING OUT THE MODEL"
      ],
      "metadata": {
        "id": "qfIsDLD70AB6"
      }
    },
    {
      "cell_type": "markdown",
      "source": [
        "training the model"
      ],
      "metadata": {
        "id": "s4-xhi3Y0Eix"
      }
    },
    {
      "cell_type": "code",
      "source": [
        "m = cosine_model()\n",
        "m.train('English', preprocess_data(load_training_data('English')))\n",
        "m.train('French', preprocess_data(load_training_data('French')))\n",
        "m.train('Czech', preprocess_data(load_training_data('Czech')))\n",
        "m.train('German', preprocess_data(load_training_data('German')))\n",
        "m.train('Hungarian', preprocess_data(load_training_data('Hungarian')))\n",
        "m.train('Italian', preprocess_data(load_training_data('Italian')))\n",
        "m.train('Polish', preprocess_data(load_training_data('Polish')))\n",
        "m.train('Russian', preprocess_data(load_training_data('Russian')))\n",
        "m.train('Spanish', preprocess_data(load_training_data('Spanish')))"
      ],
      "metadata": {
        "id": "sptxLu48jLpE"
      },
      "execution_count": 21,
      "outputs": []
    },
    {
      "cell_type": "markdown",
      "source": [
        "testing with an english paragraph"
      ],
      "metadata": {
        "id": "R9vuT0F00WAq"
      }
    },
    {
      "cell_type": "code",
      "source": [
        "test = [input(\"enter a paragraph to detect language: \")]\n",
        "test_clean = preprocess_data(test)\n",
        "language = m.predict(test_clean)\n",
        "assert language == 'English'"
      ],
      "metadata": {
        "colab": {
          "base_uri": "https://localhost:8080/"
        },
        "id": "nzmhQtfOsu5m",
        "outputId": "5e42c893-2d8a-4994-d2c1-46c8a0077a8b"
      },
      "execution_count": 25,
      "outputs": [
        {
          "output_type": "stream",
          "name": "stdout",
          "text": [
            "enter a paragraph to detect language: Along with the smooth flow of sentences, a paragraph’s coherence may also be related to its length. If you have written a very long paragraph, one that fills a double-spaced typed page, for example, you should check it carefully to see if it should start a new paragraph where the original paragraph wanders from its controlling idea. On the other hand, if a paragraph is very short (only one or two sentences, perhaps), you may need to develop its controlling idea more thoroughly, or combine it with another paragraph.\n",
            "\n",
            "language of given text document is most likely to be:  English\n"
          ]
        }
      ]
    },
    {
      "cell_type": "markdown",
      "source": [
        "testing with a french paragraph"
      ],
      "metadata": {
        "id": "dxv20ifZ1AVG"
      }
    },
    {
      "cell_type": "code",
      "source": [
        "test = [input(\"enter a paragraph to detect language: \")]\n",
        "test_clean = preprocess_data(test)\n",
        "language = m.predict(test_clean)\n",
        "assert language == 'French'"
      ],
      "metadata": {
        "colab": {
          "base_uri": "https://localhost:8080/"
        },
        "outputId": "1ad83bc7-b259-4098-ab49-4f8606078c2b",
        "id": "qBsK5RZ-1AVI"
      },
      "execution_count": 26,
      "outputs": [
        {
          "output_type": "stream",
          "name": "stdout",
          "text": [
            "enter a paragraph to detect language: Je m’appelle Jessica. Je suis une fille, je suis française et j’ai treize ans. Je vais à l’école à Nice, mais j’habite à Cagnes-Sur-Mer. J’ai deux frères. Le premier s’appelle Thomas, il a quatorze ans. Le second s’appelle Yann et il a neuf ans. Mon papa est italien et il est fleuriste. Ma mère est allemande et est avocate. Mes frères et moi parlons français, italien et allemand à la maison. Nous avons une grande maison avec un chien, un poisson et deux chats.\n",
            "\n",
            "language of given text document is most likely to be:  French\n"
          ]
        }
      ]
    },
    {
      "cell_type": "markdown",
      "source": [
        "testing with a czech paragraph"
      ],
      "metadata": {
        "id": "2i41gP091XMB"
      }
    },
    {
      "cell_type": "code",
      "source": [
        "test = [input(\"enter a paragraph to detect language: \")]\n",
        "test_clean = preprocess_data(test)\n",
        "language = m.predict(test_clean)\n",
        "assert language == 'Czech'"
      ],
      "metadata": {
        "colab": {
          "base_uri": "https://localhost:8080/"
        },
        "outputId": "abe2538b-e18a-4b1f-fa29-fa8fd178283f",
        "id": "ZoNuUeSu1XMO"
      },
      "execution_count": 27,
      "outputs": [
        {
          "output_type": "stream",
          "name": "stdout",
          "text": [
            "enter a paragraph to detect language: Pan Novák stojí na nádraží a vyhlíží svůj vlak. „Už tu měl dávno být, asi má zpoždění,“ říká si. Dnes jede na pracovní schůzku do Brna. V Brně se mu líbí. Je to krásné město a stále se tam něco děje: výstavy, festivaly, koncerty, mají tam dobré restaurace a hezkou přírodu. Škoda jen, že se tam v centru špatně parkuje.\n",
            "\n",
            "language of given text document is most likely to be:  Czech\n"
          ]
        }
      ]
    },
    {
      "cell_type": "markdown",
      "source": [
        "testing with a german paragraph"
      ],
      "metadata": {
        "id": "mxP54AUb1mSz"
      }
    },
    {
      "cell_type": "code",
      "source": [
        "test = [input(\"enter a paragraph to detect language: \")]\n",
        "test_clean = preprocess_data(test)\n",
        "language = m.predict(test_clean)\n",
        "assert language == 'German'"
      ],
      "metadata": {
        "colab": {
          "base_uri": "https://localhost:8080/"
        },
        "outputId": "115c4535-e859-42e0-801e-8e6527e2d623",
        "id": "YmvKjRQu1mS0"
      },
      "execution_count": 28,
      "outputs": [
        {
          "output_type": "stream",
          "name": "stdout",
          "text": [
            "enter a paragraph to detect language: Familie Müller plant ihren Urlaub. Sie geht in ein Reisebüro und lässt sich von einem Angestellten beraten. Als Reiseziel wählt sie Mallorca aus. Familie Müller bucht einen Flug auf die Mittelmeerinsel. Sie bucht außerdem zwei Zimmer in einem großen Hotel direkt am Strand. Familie Müller badet gerne im Meer.\n",
            "\n",
            "language of given text document is most likely to be:  German\n"
          ]
        }
      ]
    },
    {
      "cell_type": "markdown",
      "source": [
        "testing with an hungarian paragraph"
      ],
      "metadata": {
        "id": "fx398_pJ1x23"
      }
    },
    {
      "cell_type": "code",
      "source": [
        "test = [input(\"enter a paragraph to detect language: \")]\n",
        "test_clean = preprocess_data(test)\n",
        "language = m.predict(test_clean)\n",
        "assert language == 'Hungarian'"
      ],
      "metadata": {
        "colab": {
          "base_uri": "https://localhost:8080/"
        },
        "outputId": "5c76a7c8-fa51-4240-cef6-02e3eb8a3859",
        "id": "nU7ap00M1x24"
      },
      "execution_count": 29,
      "outputs": [
        {
          "output_type": "stream",
          "name": "stdout",
          "text": [
            "enter a paragraph to detect language: A nevelésnek az emberi személyiség teljes kibontakoztatására, valamint az emberi jogok és alapvető szabadságok tiszteletbentartásának megerősítésére kell irányulnia. A nevelésnek elő kell segítenie a nemzetek, valamint az összes faji és vallási csoportok közötti megértést, türelmet és barátságot, valamint az Egyesült Nemzetek által a béke fenntartásának érdekében kifejtett tevékenység kifejlődését. 3) A szülőket elsőbbségi jog illeti meg a gyermekeiknek adandó nevelés megválasztásában.\n",
            "\n",
            "language of given text document is most likely to be:  Hungarian\n"
          ]
        }
      ]
    },
    {
      "cell_type": "markdown",
      "source": [
        "testing with an italian paragraph"
      ],
      "metadata": {
        "id": "8zkuLxJT2EZb"
      }
    },
    {
      "cell_type": "code",
      "source": [
        "test = [input(\"enter a paragraph to detect language: \")]\n",
        "test_clean = preprocess_data(test)\n",
        "language = m.predict(test_clean)\n",
        "assert language == 'Italian'"
      ],
      "metadata": {
        "colab": {
          "base_uri": "https://localhost:8080/"
        },
        "outputId": "09aab242-3073-4db5-b79a-e588b74df0a3",
        "id": "XQ1KhjOt2EZc"
      },
      "execution_count": 30,
      "outputs": [
        {
          "output_type": "stream",
          "name": "stdout",
          "text": [
            "enter a paragraph to detect language: La nostra famiglia è composta anche da altre due persone, i nostri figli, Manuela che ha diciassette anni, e Marco che ha quindici anni, e poi c'è anche Tremendo, il cane che vive con noi da nove anni, ed è parte della famiglia. Viviamo tutti nella nostra splendida casa con un grande giardino.\n",
            "\n",
            "language of given text document is most likely to be:  Italian\n"
          ]
        }
      ]
    },
    {
      "cell_type": "markdown",
      "source": [
        "testing with a polish paragraph"
      ],
      "metadata": {
        "id": "n3-X3Bee2ULU"
      }
    },
    {
      "cell_type": "code",
      "source": [
        "test = [input(\"enter a paragraph to detect language: \")]\n",
        "test_clean = preprocess_data(test)\n",
        "language = m.predict(test_clean)\n",
        "assert language == 'Polish'"
      ],
      "metadata": {
        "colab": {
          "base_uri": "https://localhost:8080/"
        },
        "outputId": "803b1f27-01a9-4261-ac99-87d484f8da18",
        "id": "0GNmvF622ULV"
      },
      "execution_count": 31,
      "outputs": [
        {
          "output_type": "stream",
          "name": "stdout",
          "text": [
            "enter a paragraph to detect language: Każdego roku Mateusz nie może się doczekać tego dnia. Już wiele tygodni przed tą datą starannie planuje całe przyjęcie. Zaczyna od wyboru listy gości. Nie można oczywiście zapomnieć o rodzinie. Dlatego zawsze mile widziani są: mama, tata, brat oraz siostra. Czasem udaje się też zaprosić babcię, jeżeli dobrze się czuje. Przecież im więcej gości tym lepiej - nie tylko ze względu na prezenty. Oprócz gości będących osobami z jego rodziny, Mateusz nigdy nie zapomina też o swoich kolegach i przyjaciołach. Co to byłyby za urodziny, na których nie pojawiłby się Kacper, Ola, Wojtek albo Dawid?\n",
            "\n",
            "language of given text document is most likely to be:  Polish\n"
          ]
        }
      ]
    },
    {
      "cell_type": "markdown",
      "source": [
        "testing with a russian paragraph"
      ],
      "metadata": {
        "id": "-SWgfKgR2m9j"
      }
    },
    {
      "cell_type": "code",
      "source": [
        "test = [input(\"enter a paragraph to detect language: \")]\n",
        "test_clean = preprocess_data(test)\n",
        "language = m.predict(test_clean)\n",
        "assert language == 'Russian'"
      ],
      "metadata": {
        "colab": {
          "base_uri": "https://localhost:8080/"
        },
        "outputId": "315c6f80-d954-4f06-b415-515b2216a9ec",
        "id": "iur5CQyT2m9j"
      },
      "execution_count": 32,
      "outputs": [
        {
          "output_type": "stream",
          "name": "stdout",
          "text": [
            "enter a paragraph to detect language: Я с детства хотел завести собаку, но родители мне не разрешали. Пока я был ребёнком, у меня жил хомяк Хома. Хома был очень маленький и пушистый. Его шерсть была средней длинны и коричневого цвета. Родители купили большую клетку для него, с двумя этажами. Я был очень рад, когда у меня появился маленький друг. Было очень весело смотреть как Хома бегает в колесе. Мне нравилось кормить его морковкой и орехами\n",
            "\n",
            "language of given text document is most likely to be:  Russian\n"
          ]
        }
      ]
    },
    {
      "cell_type": "markdown",
      "source": [
        "testing with a spanish paragraph"
      ],
      "metadata": {
        "id": "F7S_7yXU21dR"
      }
    },
    {
      "cell_type": "code",
      "source": [
        "test = [input(\"enter a paragraph to detect language: \")]\n",
        "test_clean = preprocess_data(test)\n",
        "language = m.predict(test_clean)\n",
        "assert language == 'Spanish'"
      ],
      "metadata": {
        "colab": {
          "base_uri": "https://localhost:8080/"
        },
        "outputId": "9ab049b1-050b-4b12-b97f-4433d64dfd0b",
        "id": "x_shx40F21dS"
      },
      "execution_count": 33,
      "outputs": [
        {
          "output_type": "stream",
          "name": "stdout",
          "text": [
            "enter a paragraph to detect language: Hoy hace mucho frío. Es invierno y todas las calles están cubiertas de nieve. Dentro de poco vendrá la primavera y con ella el sol y el tiempo cálido. La semana pasada estuvo de lluvia y tormenta. Incluso un rayo cayó encima de la campana de la catedral, pero no ocurrió nada. Los truenos siempre me han dado miedo y mucho respeto. Pero tenemos suerte... pues la previsión del tiempo para mañana es muy buena. Dicen que hoy habrá heladas y por la tarde granizo, pero mañana el día será soleado. A ver si tengo suerte y veo algún arcoíris.\n",
            "\n",
            "language of given text document is most likely to be:  Spanish\n"
          ]
        }
      ]
    }
  ]
}